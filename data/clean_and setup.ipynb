{
 "cells": [
  {
   "cell_type": "code",
   "execution_count": null,
   "metadata": {},
   "outputs": [],
   "source": [
    "import sqlite3\n",
    "\n",
    "# Create a connection to the SQLite database (will create demo.db if it doesn't exist)\n",
    "conn = sqlite3.connect('demo.db')\n",
    "\n",
    "# Print success message and close connection\n",
    "print(\"Database created successfully.\")\n",
    "conn.close()\n"
   ]
  },
  {
   "cell_type": "code",
   "execution_count": null,
   "metadata": {},
   "outputs": [],
   "source": [
    "# Create SQLite engine\n",
    "engine = create_engine('sqlite:///demo.db')\n",
    "\n",
    "# Reload the CSV file\n",
    "df = pd.read_csv(r'D:\\Projects\\Project_DSAI203\\data\\train.csv')\n",
    "\n",
    "# Write the data into the database\n",
    "df.to_sql('myData', con=engine, if_exists='replace', index=False)\n",
    "print(\"Data reloaded into SQLite.\")\n"
   ]
  },
  {
   "cell_type": "code",
   "execution_count": null,
   "metadata": {},
   "outputs": [],
   "source": [
    "import sqlite3\n",
    "\n",
    "# Connect to the database\n",
    "conn = sqlite3.connect('demo.db')\n",
    "cursor = conn.cursor()\n",
    "\n",
    "# Drop the table if it exists\n",
    "cursor.execute(\"DROP TABLE IF EXISTS myData\")\n",
    "\n",
    "# Recreate the table with the correct schema\n",
    "cursor.execute('''\n",
    "CREATE TABLE myData (\n",
    "    User_ID INTEGER,\n",
    "    Product_ID TEXT,\n",
    "    Gender TEXT,\n",
    "    Age TEXT,\n",
    "    Occupation INTEGER,\n",
    "    City_Category TEXT,\n",
    "    Stay_In_Current_City_Years TEXT,\n",
    "    Marital_Status INTEGER,\n",
    "    Product_Category_1 INTEGER,\n",
    "    Product_Category_2 INTEGER,\n",
    "    Product_Category_3 INTEGER,\n",
    "    Purchase INTEGER\n",
    ")\n",
    "''')\n",
    "\n",
    "# Commit changes and close connection\n",
    "conn.commit()\n",
    "print(\"Table schema fixed.\")\n",
    "conn.close()"
   ]
  },
  {
   "cell_type": "code",
   "execution_count": null,
   "metadata": {},
   "outputs": [],
   "source": [
    "import sqlite3\n",
    "\n",
    "# Connect to the SQLite database\n",
    "conn = sqlite3.connect('demo.db')\n",
    "cursor = conn.cursor()\n",
    "\n",
    "# Check the first few rows of data\n",
    "cursor.execute(\"SELECT * FROM myData LIMIT 5\")\n",
    "rows = cursor.fetchall()\n",
    "\n",
    "# Print the rows\n",
    "for row in rows:\n",
    "    print(row)\n",
    "\n",
    "conn.close()\n"
   ]
  },
  {
   "cell_type": "code",
   "execution_count": 2,
   "metadata": {},
   "outputs": [],
   "source": [
    "import pandas as pd\n",
    "from sklearn.preprocessing import LabelEncoder\n",
    "df = pd.read_csv(r'D:\\Projects\\Project_DSAI203\\data\\train.csv')"
   ]
  },
  {
   "cell_type": "code",
   "execution_count": 4,
   "metadata": {},
   "outputs": [
    {
     "name": "stderr",
     "output_type": "stream",
     "text": [
      "C:\\Users\\zydoo\\AppData\\Local\\Temp\\ipykernel_22808\\781277676.py:1: FutureWarning: A value is trying to be set on a copy of a DataFrame or Series through chained assignment using an inplace method.\n",
      "The behavior will change in pandas 3.0. This inplace method will never work because the intermediate object on which we are setting values always behaves as a copy.\n",
      "\n",
      "For example, when doing 'df[col].method(value, inplace=True)', try using 'df.method({col: value}, inplace=True)' or df[col] = df[col].method(value) instead, to perform the operation inplace on the original object.\n",
      "\n",
      "\n",
      "  df['Product_Category_1'].fillna(-1, inplace=True)\n",
      "C:\\Users\\zydoo\\AppData\\Local\\Temp\\ipykernel_22808\\781277676.py:2: FutureWarning: A value is trying to be set on a copy of a DataFrame or Series through chained assignment using an inplace method.\n",
      "The behavior will change in pandas 3.0. This inplace method will never work because the intermediate object on which we are setting values always behaves as a copy.\n",
      "\n",
      "For example, when doing 'df[col].method(value, inplace=True)', try using 'df.method({col: value}, inplace=True)' or df[col] = df[col].method(value) instead, to perform the operation inplace on the original object.\n",
      "\n",
      "\n",
      "  df['Product_Category_2'].fillna(-1, inplace=True)\n",
      "C:\\Users\\zydoo\\AppData\\Local\\Temp\\ipykernel_22808\\781277676.py:3: FutureWarning: A value is trying to be set on a copy of a DataFrame or Series through chained assignment using an inplace method.\n",
      "The behavior will change in pandas 3.0. This inplace method will never work because the intermediate object on which we are setting values always behaves as a copy.\n",
      "\n",
      "For example, when doing 'df[col].method(value, inplace=True)', try using 'df.method({col: value}, inplace=True)' or df[col] = df[col].method(value) instead, to perform the operation inplace on the original object.\n",
      "\n",
      "\n",
      "  df['Product_Category_3'].fillna(-1, inplace=True)\n"
     ]
    }
   ],
   "source": [
    "df['Product_Category_1'].fillna(-1, inplace=True)\n",
    "df['Product_Category_2'].fillna(-1, inplace=True)\n",
    "df['Product_Category_3'].fillna(-1, inplace=True)"
   ]
  },
  {
   "cell_type": "code",
   "execution_count": 5,
   "metadata": {},
   "outputs": [],
   "source": [
    "df['Product_Category_1'] = df['Product_Category_2'].astype(int)\n",
    "df['Product_Category_2'] = df['Product_Category_2'].astype(int)\n",
    "df['Product_Category_3'] = df['Product_Category_3'].astype(int)"
   ]
  },
  {
   "cell_type": "code",
   "execution_count": 7,
   "metadata": {},
   "outputs": [],
   "source": [
    "df.drop_duplicates(inplace=True)"
   ]
  },
  {
   "cell_type": "code",
   "execution_count": 8,
   "metadata": {},
   "outputs": [
    {
     "data": {
      "text/html": [
       "<div>\n",
       "<style scoped>\n",
       "    .dataframe tbody tr th:only-of-type {\n",
       "        vertical-align: middle;\n",
       "    }\n",
       "\n",
       "    .dataframe tbody tr th {\n",
       "        vertical-align: top;\n",
       "    }\n",
       "\n",
       "    .dataframe thead th {\n",
       "        text-align: right;\n",
       "    }\n",
       "</style>\n",
       "<table border=\"1\" class=\"dataframe\">\n",
       "  <thead>\n",
       "    <tr style=\"text-align: right;\">\n",
       "      <th></th>\n",
       "      <th>User_ID</th>\n",
       "      <th>Product_ID</th>\n",
       "      <th>Gender</th>\n",
       "      <th>Age</th>\n",
       "      <th>Occupation</th>\n",
       "      <th>City_Category</th>\n",
       "      <th>Stay_In_Current_City_Years</th>\n",
       "      <th>Marital_Status</th>\n",
       "      <th>Product_Category_1</th>\n",
       "      <th>Product_Category_2</th>\n",
       "      <th>Product_Category_3</th>\n",
       "      <th>Purchase</th>\n",
       "    </tr>\n",
       "  </thead>\n",
       "  <tbody>\n",
       "    <tr>\n",
       "      <th>0</th>\n",
       "      <td>1000001</td>\n",
       "      <td>P00069042</td>\n",
       "      <td>F</td>\n",
       "      <td>0-17</td>\n",
       "      <td>10</td>\n",
       "      <td>A</td>\n",
       "      <td>2</td>\n",
       "      <td>0</td>\n",
       "      <td>-1</td>\n",
       "      <td>-1</td>\n",
       "      <td>-1</td>\n",
       "      <td>8370</td>\n",
       "    </tr>\n",
       "    <tr>\n",
       "      <th>1</th>\n",
       "      <td>1000001</td>\n",
       "      <td>P00248942</td>\n",
       "      <td>F</td>\n",
       "      <td>0-17</td>\n",
       "      <td>10</td>\n",
       "      <td>A</td>\n",
       "      <td>2</td>\n",
       "      <td>0</td>\n",
       "      <td>6</td>\n",
       "      <td>6</td>\n",
       "      <td>14</td>\n",
       "      <td>15200</td>\n",
       "    </tr>\n",
       "    <tr>\n",
       "      <th>2</th>\n",
       "      <td>1000001</td>\n",
       "      <td>P00087842</td>\n",
       "      <td>F</td>\n",
       "      <td>0-17</td>\n",
       "      <td>10</td>\n",
       "      <td>A</td>\n",
       "      <td>2</td>\n",
       "      <td>0</td>\n",
       "      <td>-1</td>\n",
       "      <td>-1</td>\n",
       "      <td>-1</td>\n",
       "      <td>1422</td>\n",
       "    </tr>\n",
       "    <tr>\n",
       "      <th>3</th>\n",
       "      <td>1000001</td>\n",
       "      <td>P00085442</td>\n",
       "      <td>F</td>\n",
       "      <td>0-17</td>\n",
       "      <td>10</td>\n",
       "      <td>A</td>\n",
       "      <td>2</td>\n",
       "      <td>0</td>\n",
       "      <td>14</td>\n",
       "      <td>14</td>\n",
       "      <td>-1</td>\n",
       "      <td>1057</td>\n",
       "    </tr>\n",
       "    <tr>\n",
       "      <th>4</th>\n",
       "      <td>1000002</td>\n",
       "      <td>P00285442</td>\n",
       "      <td>M</td>\n",
       "      <td>55+</td>\n",
       "      <td>16</td>\n",
       "      <td>C</td>\n",
       "      <td>4+</td>\n",
       "      <td>0</td>\n",
       "      <td>-1</td>\n",
       "      <td>-1</td>\n",
       "      <td>-1</td>\n",
       "      <td>7969</td>\n",
       "    </tr>\n",
       "  </tbody>\n",
       "</table>\n",
       "</div>"
      ],
      "text/plain": [
       "   User_ID Product_ID Gender   Age  Occupation City_Category  \\\n",
       "0  1000001  P00069042      F  0-17          10             A   \n",
       "1  1000001  P00248942      F  0-17          10             A   \n",
       "2  1000001  P00087842      F  0-17          10             A   \n",
       "3  1000001  P00085442      F  0-17          10             A   \n",
       "4  1000002  P00285442      M   55+          16             C   \n",
       "\n",
       "  Stay_In_Current_City_Years  Marital_Status  Product_Category_1  \\\n",
       "0                          2               0                  -1   \n",
       "1                          2               0                   6   \n",
       "2                          2               0                  -1   \n",
       "3                          2               0                  14   \n",
       "4                         4+               0                  -1   \n",
       "\n",
       "   Product_Category_2  Product_Category_3  Purchase  \n",
       "0                  -1                  -1      8370  \n",
       "1                   6                  14     15200  \n",
       "2                  -1                  -1      1422  \n",
       "3                  14                  -1      1057  \n",
       "4                  -1                  -1      7969  "
      ]
     },
     "execution_count": 8,
     "metadata": {},
     "output_type": "execute_result"
    }
   ],
   "source": [
    "df.head()"
   ]
  },
  {
   "cell_type": "code",
   "execution_count": 9,
   "metadata": {},
   "outputs": [
    {
     "data": {
      "text/plain": [
       "np.int64(5095812742)"
      ]
     },
     "execution_count": 9,
     "metadata": {},
     "output_type": "execute_result"
    }
   ],
   "source": [
    "total_purchase  = df[\"Purchase\"].sum()\n",
    "total_purchase"
   ]
  },
  {
   "cell_type": "code",
   "execution_count": 13,
   "metadata": {},
   "outputs": [
    {
     "data": {
      "text/plain": [
       "'P00025442'"
      ]
     },
     "execution_count": 13,
     "metadata": {},
     "output_type": "execute_result"
    }
   ],
   "source": [
    "top_selling_product = df.groupby(\"Product_ID\")[\"Purchase\"].sum().idxmax()\n",
    "top_selling_product"
   ]
  },
  {
   "cell_type": "code",
   "execution_count": 15,
   "metadata": {},
   "outputs": [
    {
     "data": {
      "text/plain": [
       "5891"
      ]
     },
     "execution_count": 15,
     "metadata": {},
     "output_type": "execute_result"
    }
   ],
   "source": [
    "total_customers = df[\"User_ID\"].nunique()\n",
    "total_customers"
   ]
  },
  {
   "cell_type": "code",
   "execution_count": 20,
   "metadata": {},
   "outputs": [
    {
     "data": {
      "text/plain": [
       "np.float64(100.0)"
      ]
     },
     "execution_count": 20,
     "metadata": {},
     "output_type": "execute_result"
    }
   ],
   "source": [
    "returning_customers = df[\"User_ID\"].value_counts().loc[lambda x: x > 1].count()\n",
    "customer_retention_rate = (returning_customers / total_customers) * 100\n",
    "customer_retention_rate"
   ]
  },
  {
   "cell_type": "code",
   "execution_count": 21,
   "metadata": {},
   "outputs": [
    {
     "ename": "FileNotFoundError",
     "evalue": "[Errno 2] No such file or directory: 'chart_age_group.png'",
     "output_type": "error",
     "traceback": [
      "\u001b[1;31m---------------------------------------------------------------------------\u001b[0m",
      "\u001b[1;31mFileNotFoundError\u001b[0m                         Traceback (most recent call last)",
      "Cell \u001b[1;32mIn[21], line 32\u001b[0m\n\u001b[0;32m     30\u001b[0m pdf\u001b[38;5;241m.\u001b[39mcell(\u001b[38;5;241m200\u001b[39m, \u001b[38;5;241m10\u001b[39m, txt\u001b[38;5;241m=\u001b[39m\u001b[38;5;124m\"\u001b[39m\u001b[38;5;124mCharts\u001b[39m\u001b[38;5;124m\"\u001b[39m, ln\u001b[38;5;241m=\u001b[39m\u001b[38;5;28;01mTrue\u001b[39;00m, align\u001b[38;5;241m=\u001b[39m\u001b[38;5;124m'\u001b[39m\u001b[38;5;124mL\u001b[39m\u001b[38;5;124m'\u001b[39m)\n\u001b[0;32m     31\u001b[0m pdf\u001b[38;5;241m.\u001b[39mcell(\u001b[38;5;241m200\u001b[39m, \u001b[38;5;241m10\u001b[39m, txt\u001b[38;5;241m=\u001b[39m\u001b[38;5;124m\"\u001b[39m\u001b[38;5;124m1. Purchase by Age Group\u001b[39m\u001b[38;5;124m\"\u001b[39m, ln\u001b[38;5;241m=\u001b[39m\u001b[38;5;28;01mTrue\u001b[39;00m, align\u001b[38;5;241m=\u001b[39m\u001b[38;5;124m'\u001b[39m\u001b[38;5;124mL\u001b[39m\u001b[38;5;124m'\u001b[39m)\n\u001b[1;32m---> 32\u001b[0m \u001b[43mpdf\u001b[49m\u001b[38;5;241;43m.\u001b[39;49m\u001b[43mimage\u001b[49m\u001b[43m(\u001b[49m\u001b[38;5;124;43m\"\u001b[39;49m\u001b[38;5;124;43mchart_age_group.png\u001b[39;49m\u001b[38;5;124;43m\"\u001b[39;49m\u001b[43m,\u001b[49m\u001b[43m \u001b[49m\u001b[43mx\u001b[49m\u001b[38;5;241;43m=\u001b[39;49m\u001b[38;5;241;43m10\u001b[39;49m\u001b[43m,\u001b[49m\u001b[43m \u001b[49m\u001b[43my\u001b[49m\u001b[38;5;241;43m=\u001b[39;49m\u001b[38;5;241;43m30\u001b[39;49m\u001b[43m,\u001b[49m\u001b[43m \u001b[49m\u001b[43mw\u001b[49m\u001b[38;5;241;43m=\u001b[39;49m\u001b[38;5;241;43m190\u001b[39;49m\u001b[43m)\u001b[49m  \u001b[38;5;66;03m# Add your chart screenshot file\u001b[39;00m\n\u001b[0;32m     33\u001b[0m pdf\u001b[38;5;241m.\u001b[39mcell(\u001b[38;5;241m200\u001b[39m, \u001b[38;5;241m100\u001b[39m, txt\u001b[38;5;241m=\u001b[39m\u001b[38;5;124m\"\u001b[39m\u001b[38;5;124m2. Average Purchases by Gender\u001b[39m\u001b[38;5;124m\"\u001b[39m, ln\u001b[38;5;241m=\u001b[39m\u001b[38;5;28;01mTrue\u001b[39;00m, align\u001b[38;5;241m=\u001b[39m\u001b[38;5;124m'\u001b[39m\u001b[38;5;124mL\u001b[39m\u001b[38;5;124m'\u001b[39m)\n\u001b[0;32m     34\u001b[0m pdf\u001b[38;5;241m.\u001b[39mimage(\u001b[38;5;124m\"\u001b[39m\u001b[38;5;124mchart_gender_avg.png\u001b[39m\u001b[38;5;124m\"\u001b[39m, x\u001b[38;5;241m=\u001b[39m\u001b[38;5;241m10\u001b[39m, y\u001b[38;5;241m=\u001b[39m\u001b[38;5;241m140\u001b[39m, w\u001b[38;5;241m=\u001b[39m\u001b[38;5;241m190\u001b[39m)\n",
      "File \u001b[1;32md:\\Projects\\Project_DSAI203\\venv\\Lib\\site-packages\\fpdf\\fpdf.py:150\u001b[0m, in \u001b[0;36mFPDF.check_page.<locals>.wrapper\u001b[1;34m(self, *args, **kwargs)\u001b[0m\n\u001b[0;32m    148\u001b[0m     \u001b[38;5;28mself\u001b[39m\u001b[38;5;241m.\u001b[39merror(\u001b[38;5;124m\"\u001b[39m\u001b[38;5;124mNo page open, you need to call add_page() first\u001b[39m\u001b[38;5;124m\"\u001b[39m)\n\u001b[0;32m    149\u001b[0m \u001b[38;5;28;01melse\u001b[39;00m:\n\u001b[1;32m--> 150\u001b[0m     \u001b[38;5;28;01mreturn\u001b[39;00m \u001b[43mfn\u001b[49m\u001b[43m(\u001b[49m\u001b[38;5;28;43mself\u001b[39;49m\u001b[43m,\u001b[49m\u001b[43m \u001b[49m\u001b[38;5;241;43m*\u001b[39;49m\u001b[43margs\u001b[49m\u001b[43m,\u001b[49m\u001b[43m \u001b[49m\u001b[38;5;241;43m*\u001b[39;49m\u001b[38;5;241;43m*\u001b[39;49m\u001b[43mkwargs\u001b[49m\u001b[43m)\u001b[49m\n",
      "File \u001b[1;32md:\\Projects\\Project_DSAI203\\venv\\Lib\\site-packages\\fpdf\\fpdf.py:971\u001b[0m, in \u001b[0;36mFPDF.image\u001b[1;34m(self, name, x, y, w, h, type, link)\u001b[0m\n\u001b[0;32m    969\u001b[0m     info\u001b[38;5;241m=\u001b[39m\u001b[38;5;28mself\u001b[39m\u001b[38;5;241m.\u001b[39m_parsejpg(name)\n\u001b[0;32m    970\u001b[0m \u001b[38;5;28;01melif\u001b[39;00m(\u001b[38;5;28mtype\u001b[39m\u001b[38;5;241m==\u001b[39m\u001b[38;5;124m'\u001b[39m\u001b[38;5;124mpng\u001b[39m\u001b[38;5;124m'\u001b[39m):\n\u001b[1;32m--> 971\u001b[0m     info\u001b[38;5;241m=\u001b[39m\u001b[38;5;28;43mself\u001b[39;49m\u001b[38;5;241;43m.\u001b[39;49m\u001b[43m_parsepng\u001b[49m\u001b[43m(\u001b[49m\u001b[43mname\u001b[49m\u001b[43m)\u001b[49m\n\u001b[0;32m    972\u001b[0m \u001b[38;5;28;01melse\u001b[39;00m:\n\u001b[0;32m    973\u001b[0m     \u001b[38;5;66;03m#Allow for additional formats\u001b[39;00m\n\u001b[0;32m    974\u001b[0m     \u001b[38;5;66;03m#maybe the image is not showing the correct extension,\u001b[39;00m\n\u001b[0;32m    975\u001b[0m     \u001b[38;5;66;03m#but the header is OK,\u001b[39;00m\n\u001b[0;32m    976\u001b[0m     succeed_parsing \u001b[38;5;241m=\u001b[39m \u001b[38;5;28;01mFalse\u001b[39;00m\n",
      "File \u001b[1;32md:\\Projects\\Project_DSAI203\\venv\\Lib\\site-packages\\fpdf\\fpdf.py:1772\u001b[0m, in \u001b[0;36mFPDF._parsepng\u001b[1;34m(self, name)\u001b[0m\n\u001b[0;32m   1770\u001b[0m        f \u001b[38;5;241m=\u001b[39m urlopen(name)\n\u001b[0;32m   1771\u001b[0m \u001b[38;5;28;01melse\u001b[39;00m:\n\u001b[1;32m-> 1772\u001b[0m     f\u001b[38;5;241m=\u001b[39m\u001b[38;5;28;43mopen\u001b[39;49m\u001b[43m(\u001b[49m\u001b[43mname\u001b[49m\u001b[43m,\u001b[49m\u001b[38;5;124;43m'\u001b[39;49m\u001b[38;5;124;43mrb\u001b[39;49m\u001b[38;5;124;43m'\u001b[39;49m\u001b[43m)\u001b[49m\n\u001b[0;32m   1773\u001b[0m \u001b[38;5;28;01mif\u001b[39;00m(\u001b[38;5;129;01mnot\u001b[39;00m f):\n\u001b[0;32m   1774\u001b[0m     \u001b[38;5;28mself\u001b[39m\u001b[38;5;241m.\u001b[39merror(\u001b[38;5;124m\"\u001b[39m\u001b[38;5;124mCan\u001b[39m\u001b[38;5;124m'\u001b[39m\u001b[38;5;124mt open image file: \u001b[39m\u001b[38;5;124m\"\u001b[39m\u001b[38;5;241m+\u001b[39mname)\n",
      "\u001b[1;31mFileNotFoundError\u001b[0m: [Errno 2] No such file or directory: 'chart_age_group.png'"
     ]
    }
   ],
   "source": [
    "from fpdf import FPDF\n",
    "\n",
    "# Initialize PDF\n",
    "pdf = FPDF()\n",
    "pdf.set_auto_page_break(auto=True, margin=15)\n",
    "\n",
    "# Add Title Page\n",
    "pdf.add_page()\n",
    "pdf.set_font(\"Arial\", size=16)\n",
    "pdf.cell(200, 10, txt=\"Dashboard Project Report\", ln=True, align='C')\n",
    "pdf.cell(200, 10, txt=\"Generated by: [Your Name]\", ln=True, align='C')\n",
    "pdf.cell(200, 10, txt=\"Date: [Insert Date]\", ln=True, align='C')\n",
    "\n",
    "# Section (a): Project Information\n",
    "pdf.add_page()\n",
    "pdf.set_font(\"Arial\", size=12)\n",
    "pdf.cell(200, 10, txt=\"Project Overview\", ln=True, align='L')\n",
    "pdf.multi_cell(0, 10, txt=\"\"\"\n",
    "This project involves the creation of a dynamic dashboard to analyze purchase and customer data. \n",
    "The dashboard is developed using HTML, CSS, JavaScript, and Python (Flask). It includes interactive charts and key metrics.\n",
    "Tools used:\n",
    "- Python: For backend data processing\n",
    "- JavaScript: For chart interactivity (AMCharts)\n",
    "- Bootstrap: For responsive layout\n",
    "\"\"\")\n",
    "\n",
    "# Section (b): Individual Charts with Snapshots\n",
    "pdf.add_page()\n",
    "pdf.set_font(\"Arial\", size=12)\n",
    "pdf.cell(200, 10, txt=\"Charts\", ln=True, align='L')\n",
    "pdf.cell(200, 10, txt=\"1. Purchase by Age Group\", ln=True, align='L')\n",
    "pdf.image(r'C:\\Users\\zydoo\\OneDrive\\Pictures\\Screenshots\\Screenshot 2024-12-20 102129.png', x=10, y=30, w=190)  # Add your chart screenshot file\n",
    "pdf.cell(200, 100, txt=\"2. Average Purchases by Gender\", ln=True, align='L')\n",
    "pdf.image(\"chart_gender_avg.png\", x=10, y=140, w=190)\n",
    "\n",
    "# Section (c): Complete Layout Snapshot\n",
    "pdf.add_page()\n",
    "pdf.cell(200, 10, txt=\"Complete Dashboard Layout\", ln=True, align='L')\n",
    "pdf.image(\"dashboard_layout.png\", x=10, y=30, w=190)\n",
    "\n",
    "# Section (d): Source Code\n",
    "pdf.add_page()\n",
    "pdf.cell(200, 10, txt=\"Source Code\", ln=True, align='L')\n",
    "with open(\"server.py\", \"r\") as code_file:\n",
    "    pdf.set_font(\"Courier\", size=8)\n",
    "    for line in code_file:\n",
    "        pdf.multi_cell(0, 5, txt=line)\n",
    "\n",
    "# Section (e): Dataset Snapshot\n",
    "pdf.add_page()\n",
    "pdf.cell(200, 10, txt=\"Dataset Snapshot\", ln=True, align='L')\n",
    "pdf.set_font(\"Courier\", size=10)\n",
    "df_snapshot = df.head(10).to_string()  # Use Pandas to get a snapshot of the dataset\n",
    "pdf.multi_cell(0, 10, txt=df_snapshot)\n",
    "\n",
    "# Section (f): Suggested Future Work\n",
    "pdf.add_page()\n",
    "pdf.set_font(\"Arial\", size=12)\n",
    "pdf.cell(200, 10, txt=\"Suggested Future Work\", ln=True, align='L')\n",
    "pdf.multi_cell(0, 10, txt=\"\"\"\n",
    "1. Implement predictive analytics to forecast future trends in purchases.\n",
    "2. Add more interactivity to charts, such as drill-down capabilities.\n",
    "3. Include additional key performance indicators (KPIs) like profit margin or average purchase value.\n",
    "4. Improve application scalability for larger datasets.\n",
    "\"\"\")\n",
    "\n",
    "# Save PDF\n",
    "pdf.output(\"Dashboard_Project_Report.pdf\")\n"
   ]
  }
 ],
 "metadata": {
  "kernelspec": {
   "display_name": "venv",
   "language": "python",
   "name": "python3"
  },
  "language_info": {
   "codemirror_mode": {
    "name": "ipython",
    "version": 3
   },
   "file_extension": ".py",
   "mimetype": "text/x-python",
   "name": "python",
   "nbconvert_exporter": "python",
   "pygments_lexer": "ipython3",
   "version": "3.12.4"
  }
 },
 "nbformat": 4,
 "nbformat_minor": 2
}
